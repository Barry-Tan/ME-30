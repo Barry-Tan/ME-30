{
 "cells": [
  {
   "cell_type": "markdown",
   "metadata": {},
   "source": [
    "#### Lab 8\n",
    "### Jingwen Tan\n",
    "#### 012135461\n",
    "#### Description: Basic operation for Arduino"
   ]
  },
  {
   "cell_type": "markdown",
   "metadata": {},
   "source": [
    "#### 1.4 Excerise 1 "
   ]
  },
  {
   "cell_type": "markdown",
   "metadata": {},
   "source": [
    " Four switches/pushbuttons   --digital input\n",
    "• Four red LEDs              --digital output\n",
    "• One RGB  LED               --digital output\n",
    "• One speaker                --digital output\n",
    "• One rotary encoder         --digital input\n",
    "• One  potentiometer         --analog input\n",
    "• One ALS (light sensor)     --analog input\n",
    "• One  temperature sensor    --analog input\n",
    "• One  servo motor header    --digital outpu\n",
    "• One reset button           --digital input\n",
    "• three-screw terminal block --analog output\n",
    "• One test probe GND hook    --analog output"
   ]
  },
  {
   "cell_type": "markdown",
   "metadata": {},
   "source": [
    "#### 1.6 Excerise 1"
   ]
  },
  {
   "cell_type": "code",
   "execution_count": 2,
   "metadata": {},
   "outputs": [
    {
     "name": "stdout",
     "output_type": "stream",
     "text": [
      "\n",
      "pymata_aio Version 2.28\tCopyright (c) 2015-2018 Alan Yorinks All rights reserved.\n",
      "\n",
      "Unable to find Serial Port, Please plug in cable or check cable connections.\n"
     ]
    },
    {
     "ename": "SystemExit",
     "evalue": "",
     "output_type": "error",
     "traceback": [
      "An exception has occurred, use %tb to see the full traceback.\n",
      "\u001b[1;31mSystemExit\u001b[0m\n"
     ]
    }
   ],
   "source": [
    "from pymata_aio.pymata3 import PyMata3\n",
    "from youknow import Led, PIN_LED3\n",
    "\n",
    "if __name__ == \"__main__\":\n",
    "    board = PyMata3()\n",
    "    led = Led(board, PIN_LED3)\n",
    "\n",
    "while True:\n",
    "    led.on()\n",
    "    board.sleep(0.5)\n",
    "    led.off()\n",
    "    board.sleep(0.5)"
   ]
  },
  {
   "cell_type": "markdown",
   "metadata": {},
   "source": [
    "Result: A red and a yellow light flash, but they activate at different time"
   ]
  },
  {
   "cell_type": "markdown",
   "metadata": {},
   "source": [
    "#### Excerise 2"
   ]
  },
  {
   "cell_type": "code",
   "execution_count": null,
   "metadata": {},
   "outputs": [
    {
     "name": "stdout",
     "output_type": "stream",
     "text": [
      "\n",
      "pymata_aio Version 2.28\tCopyright (c) 2015-2018 Alan Yorinks All rights reserved.\n",
      "\n",
      "Using COM Port:com3\n",
      "\n",
      "Initializing Arduino - Please wait... \n",
      "Arduino Firmware ID: 2.5 FirmataPlus.ino\n",
      "Auto-discovery complete. Found 20 Digital Pins and 6 Analog Pins\n",
      "\n",
      "\n"
     ]
    }
   ],
   "source": [
    "from pymata_aio.pymata3 import PyMata3\n",
    "import youknow\n",
    "\n",
    "if __name__ == \"__main__\":\n",
    "    board = PyMata3()\n",
    "    led = youknow.Led(board, youknow.PIN_LED3)\n",
    "\n",
    "while True:\n",
    "    led.on()\n",
    "    board.sleep(0.5)\n",
    "    led.off()\n",
    "    board.sleep(0.5)"
   ]
  },
  {
   "cell_type": "markdown",
   "metadata": {},
   "source": [
    "For import function, you only need to call on the top and call the specific content inside this module object after \"y.element\". The \"from..\" fuction is similar but instead of typing \"y.element\", you can go straight and call for \"element\"."
   ]
  },
  {
   "cell_type": "markdown",
   "metadata": {},
   "source": [
    "### Excerise 3"
   ]
  },
  {
   "cell_type": "code",
   "execution_count": null,
   "metadata": {},
   "outputs": [
    {
     "name": "stdout",
     "output_type": "stream",
     "text": [
      "\n",
      "pymata_aio Version 2.28\tCopyright (c) 2015-2018 Alan Yorinks All rights reserved.\n",
      "\n",
      "Using COM Port:com3\n",
      "\n",
      "Initializing Arduino - Please wait... \n",
      "Arduino Firmware ID: 2.5 FirmataPlus.ino\n",
      "Auto-discovery complete. Found 20 Digital Pins and 6 Analog Pins\n",
      "\n",
      "\n"
     ]
    }
   ],
   "source": [
    "from pymata_aio.pymata3 import PyMata3\n",
    "from youknow import PIN_SW0, PIN_LED0,PIN_SW1,PIN_LED1,PIN_SW2,PIN_LED2,PIN_SW3, PIN_LED3,Led,Button\n",
    "\n",
    "if __name__ == \"__main__\":\n",
    "    board = PyMata3(arduino_wait=3)\n",
    "    leds = [Led(board,PIN_LED0),\n",
    "            Led(board,PIN_LED1),\n",
    "            Led(board,PIN_LED2),\n",
    "            Led(board,PIN_LED3) ]\n",
    "    buttons = [Button(board,PIN_SW0,activeLevel = 0, internalPull = 1),\n",
    "               Button(board,PIN_SW1,activeLevel = 0, internalPull = 1),\n",
    "               Button(board,PIN_SW2,activeLevel = 0, internalPull = 1),\n",
    "               Button(board,PIN_SW3,activeLevel = 0, internalPull = 1)]\n",
    "    while True:\n",
    "        for i in range(4):\n",
    "            if(buttons[i].isPressed()):\n",
    "                leds[i].on()\n",
    "            else:\n",
    "                leds[i].off()"
   ]
  },
  {
   "cell_type": "markdown",
   "metadata": {},
   "source": [
    "LIst 100 buttons will cost a huge amount of time."
   ]
  },
  {
   "cell_type": "markdown",
   "metadata": {},
   "source": [
    "### Excerise 4"
   ]
  },
  {
   "cell_type": "code",
   "execution_count": null,
   "metadata": {},
   "outputs": [
    {
     "name": "stdout",
     "output_type": "stream",
     "text": [
      "\n",
      "pymata_aio Version 2.28\tCopyright (c) 2015-2018 Alan Yorinks All rights reserved.\n",
      "\n",
      "Using COM Port:com3\n",
      "\n",
      "Initializing Arduino - Please wait... \n",
      "Arduino Firmware ID: 2.5 FirmataPlus.ino\n",
      "Auto-discovery complete. Found 20 Digital Pins and 6 Analog Pins\n",
      "\n",
      "\n"
     ]
    }
   ],
   "source": [
    "from pymata_aio.pymata3 import PyMata3\n",
    "import youknow\n",
    "\n",
    "if __name__ == \"__main__\":\n",
    "    board = PyMata3(arduino_wait=3)\n",
    "    leds = [youknow.Led(board,youknow.PIN_LED0),\n",
    "            youknow.Led(board,youknow.PIN_LED1),\n",
    "            youknow.Led(board,youknow.PIN_LED2),\n",
    "            youknow.Led(board,youknow.PIN_LED3) ]\n",
    "    buttons = [youknow.Button(board,youknow.PIN_SW0,activeLevel = 0, internalPull = 1),\n",
    "               youknow.Button(board,youknow.PIN_SW1,activeLevel = 0, internalPull = 1),\n",
    "               youknow.Button(board,youknow.PIN_SW2,activeLevel = 0, internalPull = 1),\n",
    "               youknow.Button(board,youknow.PIN_SW3,activeLevel = 0, internalPull = 1)]\n",
    "    while True:\n",
    "        for i in range(4):\n",
    "            if(buttons[i].isPressed()):\n",
    "                leds[i].on()\n",
    "            else:\n",
    "                leds[i].off()"
   ]
  },
  {
   "cell_type": "markdown",
   "metadata": {},
   "source": [
    "### Excerise 5"
   ]
  },
  {
   "cell_type": "code",
   "execution_count": null,
   "metadata": {},
   "outputs": [
    {
     "name": "stdout",
     "output_type": "stream",
     "text": [
      "\n",
      "pymata_aio Version 2.28\tCopyright (c) 2015-2018 Alan Yorinks All rights reserved.\n",
      "\n",
      "Using COM Port:com3\n",
      "\n",
      "Initializing Arduino - Please wait... \n",
      "Arduino Firmware ID: 2.5 FirmataPlus.ino\n",
      "Auto-discovery complete. Found 20 Digital Pins and 6 Analog Pins\n",
      "\n",
      "\n"
     ]
    }
   ],
   "source": [
    "from pymata_aio.pymata3 import PyMata3\n",
    "from youknow import PIN_SW0,Button,PIN_SPEAKER,Speaker,PIN_SW1\n",
    "\n",
    "if __name__ == \"__main__\":\n",
    "    board = PyMata3(arduino_wait=3)\n",
    "    button0 = Button(board,PIN_SW0,activeLevel = 0, internalPull = 1)\n",
    "    button1 = Button(board,PIN_SW1,activeLevel = 0, internalPull = 1)\n",
    "    spkr = Speaker(board, PIN_SPEAKER)\n",
    "    while True:\n",
    "            if(button0.isPressed()):\n",
    "                spkr.play(2000)\n",
    "            else:\n",
    "                spkr.playStop()\n",
    "\n"
   ]
  },
  {
   "cell_type": "code",
   "execution_count": null,
   "metadata": {},
   "outputs": [],
   "source": []
  }
 ],
 "metadata": {
  "kernelspec": {
   "display_name": "Python 3",
   "language": "python",
   "name": "python3"
  },
  "language_info": {
   "codemirror_mode": {
    "name": "ipython",
    "version": 3
   },
   "file_extension": ".py",
   "mimetype": "text/x-python",
   "name": "python",
   "nbconvert_exporter": "python",
   "pygments_lexer": "ipython3",
   "version": "3.7.2"
  }
 },
 "nbformat": 4,
 "nbformat_minor": 2
}
