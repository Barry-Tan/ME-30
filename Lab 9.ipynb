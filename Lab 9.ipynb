{
 "cells": [
  {
   "cell_type": "markdown",
   "metadata": {},
   "source": [
    "#### Lab 9\n",
    "### Jingwen Tan\n",
    "#### 012135461\n",
    "#### Description: making sound and music from Arduino speaker\n",
    "*******"
   ]
  },
  {
   "cell_type": "markdown",
   "metadata": {},
   "source": [
    "### Problem 1"
   ]
  },
  {
   "cell_type": "code",
   "execution_count": 1,
   "metadata": {},
   "outputs": [
    {
     "name": "stdout",
     "output_type": "stream",
     "text": [
      "place your notes here: B4\n",
      "\n",
      "pymata_aio Version 2.28\tCopyright (c) 2015-2018 Alan Yorinks All rights reserved.\n",
      "\n",
      "Unable to find Serial Port, Please plug in cable or check cable connections.\n"
     ]
    },
    {
     "ename": "SystemExit",
     "evalue": "",
     "output_type": "error",
     "traceback": [
      "An exception has occurred, use %tb to see the full traceback.\n",
      "\u001b[1;31mSystemExit\u001b[0m\n"
     ]
    },
    {
     "name": "stderr",
     "output_type": "stream",
     "text": [
      "C:\\ProgramData\\Anaconda3\\lib\\site-packages\\IPython\\core\\interactiveshell.py:3299: UserWarning: To exit: use 'exit', 'quit', or Ctrl-D.\n",
      "  warn(\"To exit: use 'exit', 'quit', or Ctrl-D.\", stacklevel=1)\n"
     ]
    }
   ],
   "source": [
    "my_dictionary = dict()\n",
    "my_dictionary['B1']= 62\n",
    "my_dictionary['A2']= 110\n",
    "my_dictionary['A3']= 220\n",
    "my_dictionary['B4']= 494\n",
    "my_dictionary['C7']= 2093\n",
    "u=input(\"place your notes here: \")\n",
    "from pymata_aio.pymata3 import PyMata3\n",
    "from youknow import PIN_SW0,Button,PIN_SPEAKER,Speaker,PIN_SW1,PIN_SW2\n",
    "\n",
    "if __name__ == \"__main__\":\n",
    "    board = PyMata3(arduino_wait=3)\n",
    "    button0 = Button(board,PIN_SW0,activeLevel = 0, internalPull = 1)\n",
    "    button1 = Button(board,PIN_SW1,activeLevel = 0, internalPull = 1)\n",
    "    button2 = Button(board,PIN_SW2,activeLevel = 0, internalPull = 1)\n",
    "    spkr = Speaker(board, PIN_SPEAKER)\n",
    "    while True:\n",
    "            if(button0.isPressed()):\n",
    "                spkr.play(my_dictionary[u.split(\" \")[0]])\n",
    "            else:\n",
    "                spkr.playStop()\n",
    "            if(button1.isPressed()):\n",
    "                spkr.play(my_dictionary[u.split(\" \")[1]])\n",
    "            else:\n",
    "                spkr.playStop()\n",
    "            if(button2.isPressed()):\n",
    "                spkr.play(my_dictionary[u.split(\" \")[2]])\n",
    "            else:\n",
    "                spkr.playStop()"
   ]
  },
  {
   "cell_type": "markdown",
   "metadata": {},
   "source": [
    "### Problem 2"
   ]
  },
  {
   "cell_type": "code",
   "execution_count": 3,
   "metadata": {},
   "outputs": [
    {
     "name": "stdout",
     "output_type": "stream",
     "text": [
      "\n",
      "pymata_aio Version 2.28\tCopyright (c) 2015-2018 Alan Yorinks All rights reserved.\n",
      "\n",
      "Unable to find Serial Port, Please plug in cable or check cable connections.\n"
     ]
    },
    {
     "ename": "SystemExit",
     "evalue": "",
     "output_type": "error",
     "traceback": [
      "An exception has occurred, use %tb to see the full traceback.\n",
      "\u001b[1;31mSystemExit\u001b[0m\n"
     ]
    }
   ],
   "source": [
    "from pymata_aio.pymata3 import PyMata3\n",
    "from youknow import PIN_SPEAKER,Speaker\n",
    "        \n",
    "my_dictionary = dict()\n",
    "my_dictionary['c6']= 1047\n",
    "my_dictionary['d6']= 1157\n",
    "my_dictionary['e6']= 1319\n",
    "my_dictionary['f6']= 1397\n",
    "my_dictionary['g6']= 1568\n",
    "my_dictionary['a6']= 1760\n",
    "my_dictionary['b6']= 1976\n",
    "my_dictionary['c7']= 2093\n",
    "my_dictionary['C']= 1047\n",
    "my_dictionary['D']= 1175\n",
    "my_dictionary['E']= 1319\n",
    "my_dictionary['F']= 1420\n",
    "my_dictionary['G']= 1568\n",
    "my_dictionary['A']= 1760\n",
    "my_dictionary['B']= 1976\n",
    "my_dictionary['d']= 2034\n",
    "my_dictionary['c']= 2000\n",
    "\n",
    "ode = ['a6','a6','b6','g6','a6','b6',\n",
    "        'c7','b6','g6','a6','b6','c7','b6','a6','g6','a6']\n",
    "birth = ['D','D','E','D','G','D','D','d',\n",
    "         'B','G','F','E','C','C','B','G','A','G']\n",
    "create = []\n",
    "check = []\n",
    "\n",
    "def play_list(store):\n",
    "    for item in store:\n",
    "        i = 0\n",
    "        while i < 180:\n",
    "            spkr.play(my_dictionary[item])\n",
    "            i += 1\n",
    "        spkr.playStop()\n",
    "def store_music():\n",
    "    creates=input('Type your music note: ').split()      \n",
    "    for i in creates:\n",
    "        create.append(i)\n",
    "    print(create)\n",
    "def check_store():\n",
    "    if create == check:\n",
    "        print('You have not store notes yet !')\n",
    "    else:\n",
    "        play_list(create)\n",
    "\n",
    "if __name__ == \"__main__\":\n",
    "    board = PyMata3(arduino_wait=3)\n",
    "    spkr = Speaker(board, PIN_SPEAKER)\n",
    "for i in range(100):\n",
    "    i=0\n",
    "    i+=1\n",
    "    m=input(\"Type play to see the song function:  \")\n",
    "    if (m==\"play\"):\n",
    "        print(\"1.Ode to Joy  2.Happy birthday 3.Create my song 4. play own song\")\n",
    "        s=input(\"Your choice is:  \")\n",
    "    elif(m==\"exit\"):\n",
    "        break\n",
    "    else:\n",
    "        print(\"Type play please !\")\n",
    "    if(s=='1'):\n",
    "        play_list(ode)\n",
    "    if(s=='2'): \n",
    "        play_list(birth)\n",
    "    if(s=='3'):\n",
    "        store_music()\n",
    "    if(s=='4'):\n",
    "        check_store()"
   ]
  },
  {
   "cell_type": "code",
   "execution_count": null,
   "metadata": {},
   "outputs": [],
   "source": []
  }
 ],
 "metadata": {
  "kernelspec": {
   "display_name": "Python 3",
   "language": "python",
   "name": "python3"
  },
  "language_info": {
   "codemirror_mode": {
    "name": "ipython",
    "version": 3
   },
   "file_extension": ".py",
   "mimetype": "text/x-python",
   "name": "python",
   "nbconvert_exporter": "python",
   "pygments_lexer": "ipython3",
   "version": "3.7.2"
  }
 },
 "nbformat": 4,
 "nbformat_minor": 2
}
