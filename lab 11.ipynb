{
 "cells": [
  {
   "cell_type": "markdown",
   "metadata": {},
   "source": [
    "### Lab 11, Jingwen Tan---012135461"
   ]
  },
  {
   "cell_type": "markdown",
   "metadata": {},
   "source": [
    "#### Description: In this part, I learn how to open and catch the information in a site with pyhton"
   ]
  },
  {
   "cell_type": "code",
   "execution_count": 48,
   "metadata": {
    "scrolled": false
   },
   "outputs": [
    {
     "name": "stdout",
     "output_type": "stream",
     "text": [
      "What image do you want to google?  marvel\n",
      "                                \n",
      "How many result you want to see?  2\n",
      "                                \n",
      "Googling...\n",
      "                                \n",
      "Downloading image https://encrypted-tbn0.gstatic.com/images?q=tbn:ANd9GcSoN5O5yytT7UjDmuUi10OAk5TYc_VGddOknZjqbIf2t2qOpYj2mcjh1lc...\n",
      "Downloading image https://encrypted-tbn0.gstatic.com/images?q=tbn:ANd9GcSkAHdM7AAVBUzVHPOVy_c4S_p02Bl1gIPdYfCuHGC7TwvbQUss2gQ2mvA...\n",
      "Done.\n"
     ]
    }
   ],
   "source": [
    "import requests, sys, webbrowser, bs4,os\n",
    "\n",
    "search = input('What image do you want to google?  ')\n",
    "print('                                ')\n",
    "number_shown = input('How many result you want to see?  ')\n",
    "print('                                ')\n",
    "x = int(number_shown)\n",
    "\n",
    "print('Googling...')\n",
    "print('                                ')\n",
    "\n",
    "site_p1 = \"https://www.google.com/search?q=\"\n",
    "\n",
    "site_p2 = \"&source=lnms&tbm=isch&sa\"\n",
    "\n",
    "parameter = search.replace(\"\",\"+\")\n",
    "\n",
    "link=site_p1+parameter+site_p2\n",
    "\n",
    "res = requests.get(link)\n",
    "\n",
    "res.raise_for_status()\n",
    "\n",
    "soup = bs4.BeautifulSoup(res.text, \"lxml\")\n",
    "\n",
    "linkElems = soup.findAll('img')\n",
    "\n",
    "for i in range(x):\n",
    "    image = linkElems[i].get('src')\n",
    "    webbrowser.open(linkElems[i].get('src'))\n",
    "    print('Downloading image %s...' % (image))\n",
    "    rec = requests.get(image)\n",
    "    rec.raise_for_status()\n",
    "    continue\n",
    "    imageFile = open(os.path.join('google', os.path.basename(image)), 'wb')\n",
    "    for chunk in rec.iter_content(10000):\n",
    "        imageFile.write(chunk)\n",
    "    imageFile.close()\n",
    "print('Done.')\n",
    "    "
   ]
  },
  {
   "cell_type": "markdown",
   "metadata": {},
   "source": [
    "#### problem 2"
   ]
  },
  {
   "cell_type": "code",
   "execution_count": 39,
   "metadata": {},
   "outputs": [
    {
     "name": "stdout",
     "output_type": "stream",
     "text": [
      "What website you want to visit?  http://me30.org/\n",
      "http://www.anaconda.com   (site work)\n",
      "http://www.sjsu.edu/people/burford.furman/courses/me30/programmingresources_Python/index.html   (site work)\n",
      "http://www.pythonanywhere.com   (site work)\n",
      "http://www.automatetheboringstuff.com   (site work)\n",
      "http://automatetheboringstuff.com/chapter11/   (site work)\n",
      "http://codecombat.com   (site work)\n"
     ]
    }
   ],
   "source": [
    "import requests, bs4 , webbrowser\n",
    "\n",
    "url_input = input('What website you want to visit?  ')\n",
    "\n",
    "content = requests.get(url_input)\n",
    "content.raise_for_status()\n",
    "webbrowser.open(url_input)\n",
    "\n",
    "superSoup = bs4.BeautifulSoup(content.text,'lxml')\n",
    "\n",
    "for elem in superSoup.select('a'):\n",
    "    URL = elem.get('href').split(':',1)\n",
    "    \n",
    "    if URL[0] == 'http':\n",
    "        in_link=elem.get('href')\n",
    "        get_in_link=requests.get(in_link)\n",
    "        try:\n",
    "            get_in_link.raise_for_status()\n",
    "            print(in_link+\"   (site work)\")\n",
    "        except Exception as exc:\n",
    "            print('There was a problem: %s' % (exc))\n",
    "        \n",
    "        "
   ]
  },
  {
   "cell_type": "code",
   "execution_count": null,
   "metadata": {},
   "outputs": [],
   "source": []
  }
 ],
 "metadata": {
  "kernelspec": {
   "display_name": "Python 3",
   "language": "python",
   "name": "python3"
  },
  "language_info": {
   "codemirror_mode": {
    "name": "ipython",
    "version": 3
   },
   "file_extension": ".py",
   "mimetype": "text/x-python",
   "name": "python",
   "nbconvert_exporter": "python",
   "pygments_lexer": "ipython3",
   "version": "3.7.2"
  }
 },
 "nbformat": 4,
 "nbformat_minor": 2
}
